{
 "cells": [
  {
   "cell_type": "code",
   "execution_count": 53,
   "id": "f9d6e633",
   "metadata": {},
   "outputs": [],
   "source": [
    "from keras.utils import np_utils\n",
    "from keras.datasets import mnist\n",
    "from keras.models import Sequential\n",
    "from keras.layers import Dense, Activation\n",
    "import numpy as np\n",
    "import os\n",
    "from numpy import argmax\n",
    "import pandas as pd"
   ]
  },
  {
   "cell_type": "code",
   "execution_count": 54,
   "id": "ecc2601a",
   "metadata": {},
   "outputs": [
    {
     "data": {
      "text/plain": "'C:\\\\maybe_final\\\\3rd_Project\\\\search'"
     },
     "execution_count": 54,
     "metadata": {},
     "output_type": "execute_result"
    }
   ],
   "source": [
    "os.getcwd()"
   ]
  },
  {
   "cell_type": "code",
   "execution_count": 55,
   "id": "783a535a",
   "metadata": {},
   "outputs": [],
   "source": [
    "os.chdir(\"C:\\\\maybe_final\\\\3rd_Project\\\\search\")"
   ]
  },
  {
   "cell_type": "code",
   "execution_count": 56,
   "id": "bc25c2b9",
   "metadata": {},
   "outputs": [
    {
     "data": {
      "text/plain": "['Bock',\n 'Doppelbock',\n 'Eisbock',\n 'Maibock',\n 'Weizenbock',\n 'Altbier',\n 'AmericanBrownAle',\n 'BelgianDarkAle',\n 'EnglishBrownAle',\n 'EnglishDarkMildAle',\n 'Dubbel',\n 'Roggenbier',\n 'ScottishAle',\n 'WinterWarmer',\n 'AmericanAmberRedLager',\n 'CzechAmberLager',\n 'CzechDarkLager',\n 'EuropeanDarkLager',\n 'Märzen',\n 'MunichDunkel',\n 'Rauchbier',\n 'Schwarzbier',\n 'ViennaLager',\n 'BièredeChampagneBièreBrut',\n 'Braggot',\n 'CaliforniaCommonSteamBeer',\n 'CreamAle',\n 'AmericanIPA',\n 'BelgianIPA',\n 'BlackIPA',\n 'BrutIPA',\n 'EnglishIPA',\n 'ImperialIPA',\n 'MilkshakeIPA',\n 'NewEnglandIPA',\n 'AmericanAmberRedAle',\n 'AmericanBlondeAle',\n 'AmericanPaleAle',\n 'BelgianBlondeAle',\n 'BelgianPaleAle',\n 'BièredeGarde',\n 'EnglishBitter',\n 'EnglishPaleAle',\n 'EnglishPaleMildAle',\n 'ExtraSpecialStrongBitterESB',\n 'Grisette',\n 'IrishRedAle',\n 'Kölsch',\n 'Saison',\n 'AmericanAdjunctLager',\n 'AmericanLager',\n 'BohemianCzechPilsner',\n 'CzechPaleLager',\n 'EuropeanDortmunderExportLager',\n 'EuropeanPaleLager',\n 'EuropeanStrongLager',\n 'FestbierWiesnbier',\n 'GermanPilsner',\n 'Helles',\n 'ImperialPilsner',\n 'IndiaPaleLagerIPL',\n 'KellerbierZwickelbier',\n 'LightLager',\n 'MaltLiquor',\n 'AmericanPorter',\n 'RobustPorter',\n 'BalticPorter',\n 'EnglishPorter',\n 'ImperialPorter',\n 'SmokedPorter',\n 'ChileBeer',\n 'FruitandFieldBeer',\n 'PumpkinBeer',\n 'GruitAncientHerbedAle',\n 'Happoshu',\n 'HerbandSpiceBeer',\n 'JapaneseRiceLager',\n 'Kvass',\n 'LowAlcoholBeer',\n 'RyeBeer',\n 'Sahti',\n 'SmokedBeer',\n 'AmericanImperialStout',\n 'OatmealStout',\n 'AmericanStout',\n 'EnglishStout',\n 'ForeignExportStout',\n 'IrishDryStout',\n 'RussianImperialStout',\n 'SweetMilkStout',\n 'AmericanBarleywine',\n 'AmericanStrongAle',\n 'BelgianDarkStrongAle',\n 'BelgianPaleStrongAle',\n 'EnglishBarleywine',\n 'EnglishStrongAle',\n 'ImperialRedAle',\n 'OldAle',\n 'QuadrupelQuad',\n 'ScotchAleWeeHeavy',\n 'Tripel',\n 'Wheatwine',\n 'AmericanDarkWheatBeer',\n 'AmericanPaleWheatBeer',\n 'Dunkelweizen',\n 'Grodziskie',\n 'Hefeweizen',\n 'Kristallweizen',\n 'Witbier',\n 'BerlinerWeisse',\n 'BrettBeer',\n 'Faro',\n 'FlandersOudBruin',\n 'FlandersRedAle',\n 'FruitLambic',\n 'FruitedKettleSour',\n 'Gose',\n 'Gueuze',\n 'Lambic',\n 'WildAle']"
     },
     "execution_count": 56,
     "metadata": {},
     "output_type": "execute_result"
    }
   ],
   "source": [
    "df = pd.read_csv(\"final_proj_train_beer_ratings.csv\")\n",
    "\n",
    "df['Style_main']= df['스타일소분류'].str.replace(pat=r'[^\\w]',repl=r'',regex=True)\n",
    "\n",
    "df_copy = df\n",
    "df_feature = df[['Style_main','Body','Sweet','Fruity','Hoppy','Malty']]\n",
    "\n",
    "X = df[['Body','Sweet','Fruity','Hoppy','Malty']]\n",
    "y = df['Style_main']\n",
    "\n",
    "# # y를 라벨링\n",
    "# encoder = LabelEncoder()\n",
    "# encoder.fit(y)\n",
    "# Y_encodered = encoder.transform(y)\n",
    "# print(Y_encodered)\n",
    "\n",
    "\n",
    "# # 데이터 정규화 Min/Max\n",
    "# X = (X - X.min(axis=0)) / (X.max(axis=0) - X.min(axis=0))\n",
    "\n",
    "# counter = Counter(Y_encodered)\n",
    "# print(counter)\n",
    "\n",
    "# # Borderline-SMOTE 데이터 증식\n",
    "# smote = BorderlineSMOTE(random_state=0, k_neighbors=1) \n",
    "# X_over, y_over = smote.fit_resample(X,Y_encodered)\n",
    "\n",
    "# print('SMOTE 적용 전 학습용 피처/레이블 데이터 세트: ', X.shape, Y_encodered.shape)\n",
    "# print('SMOTE 적용 후 학습용 피처/레이블 데이터 세트: ', X_over.shape, y_over.shape)\n",
    "\n",
    "# # 범주형 데이터로 변환\n",
    "# y = np_utils.to_categorical(y_over)\n",
    "# X_train, X_test, y_train, y_test = train_test_split(X_over, y, test_size=0.3, random_state=777)\n",
    "\n",
    "# 스타일명 변수 지정\n",
    "style_name = df.Style_main.unique()\n",
    "style_name.tolist()"
   ]
  },
  {
   "cell_type": "code",
   "execution_count": 57,
   "id": "129f192b",
   "metadata": {},
   "outputs": [
    {
     "data": {
      "text/plain": "'C:\\\\maybe_final\\\\3rd_Project\\\\search'"
     },
     "execution_count": 57,
     "metadata": {},
     "output_type": "execute_result"
    }
   ],
   "source": [
    "os.getcwd()"
   ]
  },
  {
   "cell_type": "code",
   "execution_count": 58,
   "id": "e1f254d6",
   "metadata": {},
   "outputs": [],
   "source": [
    "from keras.models import load_model\n",
    "model = load_model('feature_5_.h5')"
   ]
  },
  {
   "cell_type": "code",
   "execution_count": 59,
   "id": "06221c85",
   "metadata": {},
   "outputs": [
    {
     "name": "stdout",
     "output_type": "stream",
     "text": [
      "WARNING:tensorflow:6 out of the last 11 calls to <function Model.make_predict_function.<locals>.predict_function at 0x000001E05614FD30> triggered tf.function retracing. Tracing is expensive and the excessive number of tracings could be due to (1) creating @tf.function repeatedly in a loop, (2) passing tensors with different shapes, (3) passing Python objects instead of tensors. For (1), please define your @tf.function outside of the loop. For (2), @tf.function has reduce_retracing=True option that can avoid unnecessary retracing. For (3), please refer to https://www.tensorflow.org/guide/function#controlling_retracing and https://www.tensorflow.org/api_docs/python/tf/function for  more details.\n",
      "1/1 [==============================] - 0s 76ms/step\n",
      "[5]\n",
      "가장 유사한 맥주는 ['Altbier']\n"
     ]
    }
   ],
   "source": [
    "data = [0.2, 0.4, 0.6, 0.8, 1.0]\n",
    "data = np.array(data).reshape(1,5)\n",
    "predict = model.predict(data)  #범주형 결과\n",
    "\n",
    "final_ma_predict = np.argmax(predict, axis = -1) #수치형 결과\n",
    "print(final_ma_predict)\n",
    "print('가장 유사한 맥주는', style_name[final_ma_predict])"
   ]
  },
  {
   "cell_type": "code",
   "execution_count": 61,
   "id": "8e7d8667",
   "metadata": {},
   "outputs": [],
   "source": [
    "style_name = pd.DataFrame(style_name)"
   ]
  },
  {
   "cell_type": "code",
   "execution_count": 62,
   "id": "0803ceed",
   "metadata": {},
   "outputs": [
    {
     "data": {
      "text/plain": "                     0\n0                 Bock\n1           Doppelbock\n2              Eisbock\n3              Maibock\n4           Weizenbock\n..                 ...\n115  FruitedKettleSour\n116               Gose\n117             Gueuze\n118             Lambic\n119            WildAle\n\n[120 rows x 1 columns]",
      "text/html": "<div>\n<style scoped>\n    .dataframe tbody tr th:only-of-type {\n        vertical-align: middle;\n    }\n\n    .dataframe tbody tr th {\n        vertical-align: top;\n    }\n\n    .dataframe thead th {\n        text-align: right;\n    }\n</style>\n<table border=\"1\" class=\"dataframe\">\n  <thead>\n    <tr style=\"text-align: right;\">\n      <th></th>\n      <th>0</th>\n    </tr>\n  </thead>\n  <tbody>\n    <tr>\n      <th>0</th>\n      <td>Bock</td>\n    </tr>\n    <tr>\n      <th>1</th>\n      <td>Doppelbock</td>\n    </tr>\n    <tr>\n      <th>2</th>\n      <td>Eisbock</td>\n    </tr>\n    <tr>\n      <th>3</th>\n      <td>Maibock</td>\n    </tr>\n    <tr>\n      <th>4</th>\n      <td>Weizenbock</td>\n    </tr>\n    <tr>\n      <th>...</th>\n      <td>...</td>\n    </tr>\n    <tr>\n      <th>115</th>\n      <td>FruitedKettleSour</td>\n    </tr>\n    <tr>\n      <th>116</th>\n      <td>Gose</td>\n    </tr>\n    <tr>\n      <th>117</th>\n      <td>Gueuze</td>\n    </tr>\n    <tr>\n      <th>118</th>\n      <td>Lambic</td>\n    </tr>\n    <tr>\n      <th>119</th>\n      <td>WildAle</td>\n    </tr>\n  </tbody>\n</table>\n<p>120 rows × 1 columns</p>\n</div>"
     },
     "execution_count": 62,
     "metadata": {},
     "output_type": "execute_result"
    }
   ],
   "source": [
    "style_name"
   ]
  },
  {
   "cell_type": "code",
   "execution_count": 63,
   "outputs": [],
   "source": [
    "style_name.to_csv('feature_style_names.txt',header=None,index=False,sep='\\t')"
   ],
   "metadata": {
    "collapsed": false
   }
  },
  {
   "cell_type": "code",
   "execution_count": null,
   "outputs": [],
   "source": [],
   "metadata": {
    "collapsed": false
   }
  }
 ],
 "metadata": {
  "kernelspec": {
   "display_name": "Python 3 (ipykernel)",
   "language": "python",
   "name": "python3"
  },
  "language_info": {
   "codemirror_mode": {
    "name": "ipython",
    "version": 3
   },
   "file_extension": ".py",
   "mimetype": "text/x-python",
   "name": "python",
   "nbconvert_exporter": "python",
   "pygments_lexer": "ipython3",
   "version": "3.9.13"
  }
 },
 "nbformat": 4,
 "nbformat_minor": 5
}
